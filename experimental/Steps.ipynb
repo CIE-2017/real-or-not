{
 "cells": [
  {
   "cell_type": "markdown",
   "metadata": {},
   "source": [
    "<h3> Pre-processing steps </h3>\n",
    "<ol> \n",
    "    <li> Add bool or int to: \n",
    "         <ul>\n",
    "             <li> Tags </li>\n",
    "             <li> Links </li>\n",
    "             <li> KeywordNull </li>\n",
    "         </ul>\n",
    "    </li>\n",
    "    <li> Remove symbols and numbers from: \n",
    "         <ul>\n",
    "             <li> Keyword </li>\n",
    "             <li> Tweets </li>\n",
    "         </ul>\n",
    "    </li>\n",
    "    <li> Convert the given document to matrix: \n",
    "        <ol>\n",
    "            <li> Convert the tweet to vector </li>\n",
    "            <li> add new columns, which are </li>\n",
    "        </ol>\n",
    "            \n",
    "</ol>"
   ]
  },
  {
   "cell_type": "markdown",
   "metadata": {},
   "source": [
    "<h4>def addBool:</h4>\n",
    "<h4>def removeSymbols:</h4>\n",
    "<h4>def convertToMatrix:</h4>"
   ]
  },
  {
   "cell_type": "code",
   "execution_count": 2,
   "metadata": {},
   "outputs": [],
   "source": [
    "import pandas as pd\n",
    "import numpy as np\n",
    "from sklearn import feature_extraction, linear_model, model_selection, preprocessing\n",
    "import matplotlib.pyplot as plt\n",
    "import copy"
   ]
  },
  {
   "cell_type": "code",
   "execution_count": 3,
   "metadata": {},
   "outputs": [],
   "source": [
    "with open(r\"\\Documents\\Data analytics\\Project\\Work\\Notebook\\Untitled Folder\\words_alpha.txt\") as wordFile:\n",
    "    words = set(wordFile.read().split())"
   ]
  },
  {
   "cell_type": "code",
   "execution_count": 4,
   "metadata": {},
   "outputs": [],
   "source": [
    "pathTest = r\"\\Documents\\Data analytics\\Project\\Data\\test.csv\"\n",
    "pathTrain = r\"\\Documents\\Data analytics\\Project\\Data\\train.csv\"\n",
    "test_df = pd.read_csv(pathTest)\n",
    "train_df = pd.read_csv(pathTrain)"
   ]
  },
  {
   "cell_type": "code",
   "execution_count": 5,
   "metadata": {},
   "outputs": [],
   "source": [
    "sample_train_df = copy.deepcopy(train_df)\n",
    "sample_test_df = copy.deepcopy(test_df)"
   ]
  },
  {
   "cell_type": "code",
   "execution_count": 6,
   "metadata": {},
   "outputs": [],
   "source": [
    "def addBoolCol(train_set):\n",
    "    hashtags = train_set.text.str.find(\"#\") != -1\n",
    "    links = train_set.text.str.find(\"http\") != -1\n",
    "    personTag = train_set.text.str.find(\"@\") != -1\n",
    "    keywordNull = train_set.keyword.isna()\n",
    "    #Adding new col\n",
    "    train_set[\"contains_hashtags\"] = hashtags\n",
    "    train_set[\"contains_usertags\"] = personTag\n",
    "    train_set[\"contains_weblink\"] = links\n",
    "    train_set[\"keywordNull\"] = keywordNull\n",
    "    return 0"
   ]
  },
  {
   "cell_type": "code",
   "execution_count": 7,
   "metadata": {},
   "outputs": [],
   "source": [
    "def removeSymbols(train_set):\n",
    "    symbols = \"!\\\"$%&'*+,-./:;?[\\]^_`{|}~#@\"\n",
    "    numbers = \"0123456789\"\n",
    "    for symbol in symbols:\n",
    "        symbol = \"\\\\\" + symbol\n",
    "        train_set['text'] = train_set['text'].str.replace(symbol,\" \")\n",
    "        train_set['keyword'] = train_set['keyword'].str.replace(symbol,\" \")\n",
    "    for number in numbers:\n",
    "        train_set['text'] = train_set['text'].str.replace(number,\"\")\n",
    "        train_set['keyword'] = train_set['keyword'].str.replace(number,\" \")\n",
    "    return 0"
   ]
  },
  {
   "cell_type": "code",
   "execution_count": 8,
   "metadata": {},
   "outputs": [],
   "source": [
    "def documentToMatrix(train_set):\n",
    "    #The modified matrix would look something like this :\n",
    "    # ----------- word features ----------- hashTagCol --- UserTagCol --- LinkCol ----\n",
    "    #get tag informaiton\n",
    "    hashTagCol = train_set.contains_hashtags.astype(int).to_numpy()\n",
    "    userTagCol = train_set.contains_usertags.astype(int).to_numpy()\n",
    "    linkCol = train_set.contains_weblink.astype(int).to_numpy()\n",
    "    #reshaping\n",
    "    hashTagCol = hashTagCol.reshape(len(hashTagCol),1)\n",
    "    userTagCol = userTagCol.reshape(len(userTagCol),1)\n",
    "    linkCol = linkCol.reshape(len(linkCol),1)\n",
    "    #Make matrix\n",
    "    count_vectorizer = feature_extraction.text.CountVectorizer()\n",
    "    matrix = count_vectorizer.fit_transform(train_set.text)\n",
    "    #Add column to modified matrix\n",
    "    modifiedMatrix = matrix.toarray()\n",
    "    modifiedMatrix = np.column_stack((modifiedMatrix,hashTagCol))\n",
    "    modifiedMatrix = np.column_stack((modifiedMatrix,userTagCol))\n",
    "    modifiedMatrix = np.column_stack((modifiedMatrix,linkCol))\n",
    "    return {\"matrix\": matrix,\"vectorizer\":count_vectorizer, \"modifiedMatrix\":modifiedMatrix}     "
   ]
  },
  {
   "cell_type": "code",
   "execution_count": 33,
   "metadata": {},
   "outputs": [],
   "source": [
    "#Training set\n",
    "addBoolCol(sample_train_df)\n",
    "removeSymbols(sample_train_df)\n",
    "matrixDict = documentToMatrix(sample_train_df)\n",
    "targetVector = sample_train_df.target.to_numpy()"
   ]
  },
  {
   "cell_type": "code",
   "execution_count": 34,
   "metadata": {},
   "outputs": [],
   "source": [
    "clf = linear_model.RidgeClassifier()\n",
    "clf = linear_model.RidgeClassifier().fit(matrixDict[\"modifiedMatrix\"], targetVector)"
   ]
  },
  {
   "cell_type": "code",
   "execution_count": 35,
   "metadata": {},
   "outputs": [],
   "source": [
    "#Testing set\n",
    "addBoolCol(sample_test_df)\n",
    "removeSymbols(sample_test_df)\n",
    "TestmatrixDict = documentToMatrix(sample_test_df)"
   ]
  },
  {
   "cell_type": "code",
   "execution_count": 37,
   "metadata": {},
   "outputs": [
    {
     "ename": "ValueError",
     "evalue": "X has 11902 features per sample; expecting 20916",
     "output_type": "error",
     "traceback": [
      "\u001b[1;31m---------------------------------------------------------------------------\u001b[0m",
      "\u001b[1;31mValueError\u001b[0m                                Traceback (most recent call last)",
      "\u001b[1;32m<ipython-input-37-6881fe6f99b7>\u001b[0m in \u001b[0;36m<module>\u001b[1;34m\u001b[0m\n\u001b[1;32m----> 1\u001b[1;33m \u001b[0mclf\u001b[0m\u001b[1;33m.\u001b[0m\u001b[0mdecision_function\u001b[0m\u001b[1;33m(\u001b[0m\u001b[0mTestmatrixDict\u001b[0m\u001b[1;33m[\u001b[0m\u001b[1;34m\"modifiedMatrix\"\u001b[0m\u001b[1;33m]\u001b[0m\u001b[1;33m)\u001b[0m\u001b[1;33m\u001b[0m\u001b[1;33m\u001b[0m\u001b[0m\n\u001b[0m",
      "\u001b[1;32m~\\Anaconda3\\lib\\site-packages\\sklearn\\linear_model\\base.py\u001b[0m in \u001b[0;36mdecision_function\u001b[1;34m(self, X)\u001b[0m\n\u001b[0;32m    268\u001b[0m         \u001b[1;32mif\u001b[0m \u001b[0mX\u001b[0m\u001b[1;33m.\u001b[0m\u001b[0mshape\u001b[0m\u001b[1;33m[\u001b[0m\u001b[1;36m1\u001b[0m\u001b[1;33m]\u001b[0m \u001b[1;33m!=\u001b[0m \u001b[0mn_features\u001b[0m\u001b[1;33m:\u001b[0m\u001b[1;33m\u001b[0m\u001b[1;33m\u001b[0m\u001b[0m\n\u001b[0;32m    269\u001b[0m             raise ValueError(\"X has %d features per sample; expecting %d\"\n\u001b[1;32m--> 270\u001b[1;33m                              % (X.shape[1], n_features))\n\u001b[0m\u001b[0;32m    271\u001b[0m \u001b[1;33m\u001b[0m\u001b[0m\n\u001b[0;32m    272\u001b[0m         scores = safe_sparse_dot(X, self.coef_.T,\n",
      "\u001b[1;31mValueError\u001b[0m: X has 11902 features per sample; expecting 20916"
     ]
    }
   ],
   "source": [
    "clf.decision_function(TestmatrixDict[\"modifiedMatrix\"])"
   ]
  },
  {
   "cell_type": "markdown",
   "metadata": {},
   "source": [
    "<h2> Big problem </h2>\n",
    "<p> The method used above will have different features for training set than testing set. Therefore the method used above is not usefull! </p>"
   ]
  },
  {
   "cell_type": "code",
   "execution_count": null,
   "metadata": {},
   "outputs": [],
   "source": []
  }
 ],
 "metadata": {
  "kernelspec": {
   "display_name": "Python 3",
   "language": "python",
   "name": "python3"
  },
  "language_info": {
   "codemirror_mode": {
    "name": "ipython",
    "version": 3
   },
   "file_extension": ".py",
   "mimetype": "text/x-python",
   "name": "python",
   "nbconvert_exporter": "python",
   "pygments_lexer": "ipython3",
   "version": "3.7.4"
  }
 },
 "nbformat": 4,
 "nbformat_minor": 2
}
